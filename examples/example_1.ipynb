{
 "cells": [
  {
   "cell_type": "code",
   "execution_count": 2,
   "metadata": {},
   "outputs": [],
   "source": [
    "import neurokit2 as nk\n",
    "import numpy as np\n",
    "import NeuroHEP as hep"
   ]
  },
  {
   "cell_type": "markdown",
   "metadata": {},
   "source": [
    "## Generate synthetic ECG and EEG signals"
   ]
  },
  {
   "cell_type": "code",
   "execution_count": null,
   "metadata": {},
   "outputs": [],
   "source": [
    "# For 5 subjects (10 seconds of data at 250 Hz)\n",
    "num_subjects = 5\n",
    "sampling_rate = 250  # Hz\n",
    "duration = 10  # seconds\n",
    "\n",
    "# Simulating ECG and EEG signals\n",
    "ecg_signals = np.array([nk.ecg_simulate(duration=duration, sampling_rate=sampling_rate, heart_rate=70) for _ in range(num_subjects)])\n",
    "eeg_signals = np.array([nk.eeg_simulate(duration=duration, sampling_rate=sampling_rate, noise=0.1) for _ in range(num_subjects)])"
   ]
  },
  {
   "cell_type": "markdown",
   "metadata": {},
   "source": [
    "## Pre-processing"
   ]
  },
  {
   "cell_type": "code",
   "execution_count": null,
   "metadata": {},
   "outputs": [],
   "source": [
    "# Desired parameters for preprocessing\n",
    "target_fs = 128  # Resample to 128 Hz\n",
    "notch_freq = 60  # 60 Hz notch filter for powerline noise\n",
    "low_cutoff = 0.1  # Low cutoff for bandpass filter (in Hz)\n",
    "high_cutoff = 35  # High cutoff for bandpass filter (in Hz)\n",
    "\n",
    "# Preprocess ECG and EEG signals\n",
    "filtered_ecg, filtered_eeg = hep.preprocessing.preprocess_ecg_eeg(\n",
    "    ecg_signals, eeg_signals, sampling_rate, \n",
    "    target_fs=target_fs, notch_freq=notch_freq, \n",
    "    low_cutoff=low_cutoff, high_cutoff=high_cutoff\n",
    ")"
   ]
  },
  {
   "cell_type": "markdown",
   "metadata": {},
   "source": [
    "## Extract HEPs"
   ]
  },
  {
   "cell_type": "code",
   "execution_count": null,
   "metadata": {},
   "outputs": [],
   "source": [
    "# Select one subject's ECG signal for R-wave peak detection (for simplicity, using the first subject)\n",
    "subject_ecg_signal = filtered_ecg[0]\n",
    "subject_eeg_signal = filtered_eeg[0]"
   ]
  },
  {
   "cell_type": "code",
   "execution_count": null,
   "metadata": {},
   "outputs": [],
   "source": [
    "# Detect R-wave peaks\n",
    "r_peak_indices = hep.detection.detect_r_wave_peaks(subject_ecg_signal, sampling_rate)"
   ]
  },
  {
   "cell_type": "code",
   "execution_count": null,
   "metadata": {},
   "outputs": [],
   "source": [
    "# Define windows around R-peaks (in milliseconds)\n",
    "pre_window_ms = 100  # 100 ms before the R-peak\n",
    "post_window_ms = 300  # 300 ms after the R-peak\n",
    "\n",
    "# Extract Heart-Evoked Potentials (HEPs)\n",
    "hep, hep_ecg = hep.detection.extract_heps(\n",
    "    subject_eeg_signal, subject_ecg_signal, r_peak_indices, \n",
    "    pre_window_ms, post_window_ms, sampling_rate, show_plots=False\n",
    ")"
   ]
  },
  {
   "cell_type": "markdown",
   "metadata": {},
   "source": [
    "## Visualizaiton"
   ]
  },
  {
   "cell_type": "code",
   "execution_count": null,
   "metadata": {},
   "outputs": [],
   "source": [
    "hep.visualization.plot_ecg_eeg_with_hep()"
   ]
  }
 ],
 "metadata": {
  "kernelspec": {
   "display_name": "Python 3",
   "language": "python",
   "name": "python3"
  },
  "language_info": {
   "codemirror_mode": {
    "name": "ipython",
    "version": 3
   },
   "file_extension": ".py",
   "mimetype": "text/x-python",
   "name": "python",
   "nbconvert_exporter": "python",
   "pygments_lexer": "ipython3",
   "version": "3.12.5"
  }
 },
 "nbformat": 4,
 "nbformat_minor": 2
}
